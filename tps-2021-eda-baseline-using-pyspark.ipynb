{
 "cells": [
  {
   "cell_type": "markdown",
   "metadata": {},
   "source": [
    "## About the Problem:\n",
    "Using the machine learning tools, we need to analyze the information about the passensgers of Titanic and predict which passenger has survived. This problem has been published by Kaggle and is widely used for learning basic concepts of Machine Learning"
   ]
  },
  {
   "cell_type": "markdown",
   "metadata": {},
   "source": [
    "## Exploring The Data:\n",
    "\n",
    "### Data Dictionary\n",
    "![Imgur](https://i.imgur.com/bkNeXxE.png)\n",
    "\n",
    "## Variable Notes\n",
    "**pclass**: A proxy for socio-economic status (SES)\n",
    "1st = Upper\n",
    "2nd = Middle\n",
    "3rd = Lower\n",
    "\n",
    "**age**: Age is fractional if less than 1. If the age is estimated, is it in the form of xx.5\n",
    "\n",
    "**sibsp**: The dataset defines family relations in this way...\n",
    "\n",
    "**Sibling** = brother, sister, stepbrother, stepsister\n",
    "\n",
    "**Spouse** = husband, wife (mistresses and fiancés were ignored)\n",
    "\n",
    "**parch**: The dataset defines family relations in this way...\n",
    "\n",
    "**Parent** = mother, father\n",
    "\n",
    "**Child** = daughter, son, stepdaughter, stepson\n",
    "\n",
    "Some children travelled only with a nanny, therefore parch=0 for them."
   ]
  },
  {
   "cell_type": "markdown",
   "metadata": {},
   "source": [
    "## Load Libraries"
   ]
  },
  {
   "cell_type": "code",
   "execution_count": 4,
   "metadata": {
    "trusted": true
   },
   "outputs": [],
   "source": [
    "from pyspark.sql import SparkSession\n",
    "from pyspark.sql.functions import isnull, when, count, col\n",
    "from pyspark.ml.feature import VectorAssembler,StringIndexer\n",
    "from pandas.plotting import scatter_matrix\n",
    "from pyspark.ml.classification import RandomForestClassifier\n",
    "from pyspark.ml.classification import DecisionTreeClassifier\n",
    "from pyspark.ml.classification import GBTClassifier\n",
    "from pyspark.ml.evaluation import MulticlassClassificationEvaluator\n",
    "import pandas as pd\n",
    "import numpy as np"
   ]
  },
  {
   "cell_type": "markdown",
   "metadata": {},
   "source": [
    "## Load Data"
   ]
  },
  {
   "cell_type": "code",
   "execution_count": 5,
   "metadata": {
    "trusted": true
   },
   "outputs": [
    {
     "name": "stdout",
     "output_type": "stream",
     "text": [
      "root\n",
      " |-- PassengerId: integer (nullable = true)\n",
      " |-- Survived: integer (nullable = true)\n",
      " |-- Pclass: integer (nullable = true)\n",
      " |-- Name: string (nullable = true)\n",
      " |-- Sex: string (nullable = true)\n",
      " |-- Age: double (nullable = true)\n",
      " |-- SibSp: integer (nullable = true)\n",
      " |-- Parch: integer (nullable = true)\n",
      " |-- Ticket: string (nullable = true)\n",
      " |-- Fare: double (nullable = true)\n",
      " |-- Cabin: string (nullable = true)\n",
      " |-- Embarked: string (nullable = true)\n",
      "\n"
     ]
    }
   ],
   "source": [
    "spark = SparkSession.builder.appName('tps-2021-ml-with-pyspark').getOrCreate()\n",
    "df = spark.read.csv(r'Y:\\ML - DL - NLP - CV\\Work Space_coding\\Big Data Project\\tabular-playground-series-apr-2021\\train.csv', header = True, inferSchema = True)\n",
    "df.printSchema()"
   ]
  },
  {
   "cell_type": "markdown",
   "metadata": {},
   "source": [
    "## Show Dataset\n"
   ]
  },
  {
   "cell_type": "code",
   "execution_count": 6,
   "metadata": {
    "trusted": true
   },
   "outputs": [
    {
     "name": "stdout",
     "output_type": "stream",
     "text": [
      "+-----------+--------+------+----------------+----+----+-----+-----+---------+-----+------+--------+\n",
      "|PassengerId|Survived|Pclass|            Name| Sex| Age|SibSp|Parch|   Ticket| Fare| Cabin|Embarked|\n",
      "+-----------+--------+------+----------------+----+----+-----+-----+---------+-----+------+--------+\n",
      "|          0|       1|     1|Oconnor, Frankie|male|NULL|    2|    0|   209245|27.14|C12239|       S|\n",
      "|          1|       0|     3|     Bryan, Drew|male|NULL|    0|    0|    27323|13.35|  NULL|       S|\n",
      "|          2|       0|     3|  Owens, Kenneth|male|0.33|    1|    2|CA 457703|71.29|  NULL|       S|\n",
      "|          3|       0|     3|   Kramer, James|male|19.0|    0|    0| A. 10866|13.04|  NULL|       S|\n",
      "|          4|       1|     3|   Bond, Michael|male|25.0|    0|    0|   427635| 7.76|  NULL|       S|\n",
      "+-----------+--------+------+----------------+----+----+-----+-----+---------+-----+------+--------+\n",
      "only showing top 5 rows\n",
      "\n"
     ]
    }
   ],
   "source": [
    "df.show(5)"
   ]
  },
  {
   "cell_type": "markdown",
   "metadata": {},
   "source": [
    "Now, Data grouping by Survived for checking the classes are perfectly balanced!!"
   ]
  },
  {
   "cell_type": "code",
   "execution_count": 7,
   "metadata": {
    "trusted": true
   },
   "outputs": [
    {
     "name": "stdout",
     "output_type": "stream",
     "text": [
      "+--------+-----+\n",
      "|Survived|count|\n",
      "+--------+-----+\n",
      "|       1|42774|\n",
      "|       0|57226|\n",
      "+--------+-----+\n",
      "\n"
     ]
    }
   ],
   "source": [
    "df.groupby('Survived').count().show()"
   ]
  },
  {
   "cell_type": "markdown",
   "metadata": {},
   "source": [
    "**Survived class not balanced!!**"
   ]
  },
  {
   "cell_type": "markdown",
   "metadata": {},
   "source": [
    "## Summary statistics for numeric variables"
   ]
  },
  {
   "cell_type": "code",
   "execution_count": 8,
   "metadata": {
    "trusted": true
   },
   "outputs": [
    {
     "name": "stdout",
     "output_type": "stream",
     "text": [
      "+-------+-----------------+-------------------+------------------+------------------+------------------+\n",
      "|summary|      PassengerId|           Survived|            Pclass|             SibSp|             Parch|\n",
      "+-------+-----------------+-------------------+------------------+------------------+------------------+\n",
      "|  count|           100000|             100000|            100000|            100000|            100000|\n",
      "|   mean|          49999.5|            0.42774|           2.10691|           0.39769|           0.45456|\n",
      "| stddev|28867.65779668774|0.49475341353991886|0.8377274436072256|0.8625659998522097|0.9500759089895537|\n",
      "|    min|                0|                  0|                 1|                 0|                 0|\n",
      "|    max|            99999|                  1|                 3|                 8|                 9|\n",
      "+-------+-----------------+-------------------+------------------+------------------+------------------+\n",
      "\n"
     ]
    }
   ],
   "source": [
    "numeric_features = [t[0] for t in df.dtypes if t[1] == 'int']\n",
    "df.select(numeric_features).describe().show()"
   ]
  },
  {
   "cell_type": "markdown",
   "metadata": {},
   "source": [
    "## Correlations\n",
    "\n",
    "Checking Correlations between independent variables\n"
   ]
  },
  {
   "cell_type": "code",
   "execution_count": 9,
   "metadata": {
    "trusted": true
   },
   "outputs": [
    {
     "data": {
      "image/png": "[encoded data removed]",
      "text/plain": [
       "<Figure size 800x800 with 25 Axes>"
      ]
     },
     "metadata": {},
     "output_type": "display_data"
    }
   ],
   "source": [
    "numeric_data = df.select(numeric_features).toPandas()\n",
    "\n",
    "axs = scatter_matrix(numeric_data, figsize=(8, 8));\n",
    "\n",
    "# Rotate axis labels and remove axis ticks\n",
    "n = len(numeric_data.columns)\n",
    "for i in range(n):\n",
    "    v = axs[i, 0]\n",
    "    v.yaxis.label.set_rotation(0)\n",
    "    v.yaxis.label.set_ha('right')\n",
    "    v.set_yticks(())\n",
    "    h = axs[n-1, i]\n",
    "    h.xaxis.label.set_rotation(90)\n",
    "    h.set_xticks(())"
   ]
  },
  {
   "cell_type": "markdown",
   "metadata": {},
   "source": [
    "## Data preparation and feature engineering"
   ]
  },
  {
   "cell_type": "markdown",
   "metadata": {},
   "source": [
    "### 1. Missing Data Handling:\n"
   ]
  },
  {
   "cell_type": "code",
   "execution_count": 10,
   "metadata": {
    "trusted": true
   },
   "outputs": [
    {
     "name": "stdout",
     "output_type": "stream",
     "text": [
      "+-----------+--------+------+----+---+----+-----+-----+------+----+-----+--------+\n",
      "|PassengerId|Survived|Pclass|Name|Sex| Age|SibSp|Parch|Ticket|Fare|Cabin|Embarked|\n",
      "+-----------+--------+------+----+---+----+-----+-----+------+----+-----+--------+\n",
      "|          0|       0|     0|   0|  0|3292|    0|    0|  4623| 134|67866|     250|\n",
      "+-----------+--------+------+----+---+----+-----+-----+------+----+-----+--------+\n",
      "\n"
     ]
    }
   ],
   "source": [
    "df.select([count(when(isnull(c), c)).alias(c) for c in df.columns]).show()"
   ]
  },
  {
   "cell_type": "code",
   "execution_count": 11,
   "metadata": {
    "trusted": true
   },
   "outputs": [],
   "source": [
    "dataset = df.replace('null', None)\\\n",
    "        .dropna(how='any')"
   ]
  },
  {
   "cell_type": "markdown",
   "metadata": {},
   "source": [
    "**Again check missing data**"
   ]
  },
  {
   "cell_type": "code",
   "execution_count": 12,
   "metadata": {
    "trusted": true
   },
   "outputs": [
    {
     "name": "stdout",
     "output_type": "stream",
     "text": [
      "+-----------+--------+------+----+---+---+-----+-----+------+----+-----+--------+\n",
      "|PassengerId|Survived|Pclass|Name|Sex|Age|SibSp|Parch|Ticket|Fare|Cabin|Embarked|\n",
      "+-----------+--------+------+----+---+---+-----+-----+------+----+-----+--------+\n",
      "|          0|       0|     0|   0|  0|  0|    0|    0|     0|   0|    0|       0|\n",
      "+-----------+--------+------+----+---+---+-----+-----+------+----+-----+--------+\n",
      "\n"
     ]
    }
   ],
   "source": [
    "dataset.select([count(when(isnull(c), c)).alias(c) for c in df.columns]).show()"
   ]
  },
  {
   "cell_type": "markdown",
   "metadata": {},
   "source": [
    "## 2. Unnecessary columns dropping\n"
   ]
  },
  {
   "cell_type": "code",
   "execution_count": 13,
   "metadata": {
    "trusted": true
   },
   "outputs": [
    {
     "name": "stdout",
     "output_type": "stream",
     "text": [
      "+--------+------+------+----+-----+-----+\n",
      "|Survived|Pclass|   Sex| Age|SibSp|Parch|\n",
      "+--------+------+------+----+-----+-----+\n",
      "|       0|     1|  male|27.0|    2|    1|\n",
      "|       0|     2|  male|66.0|    0|    0|\n",
      "|       0|     1|  male|60.0|    0|    0|\n",
      "|       0|     3|  male|36.0|    0|    0|\n",
      "|       1|     1|female|44.0|    0|    1|\n",
      "|       1|     1|female|61.0|    0|    4|\n",
      "|       0|     1|female|53.0|    1|    1|\n",
      "|       1|     1|female|35.0|    0|    2|\n",
      "|       1|     1|female|67.0|    1|    0|\n",
      "|       1|     1|  male|54.0|    0|    0|\n",
      "|       1|     1|female|69.0|    1|    0|\n",
      "|       1|     2|female| 7.0|    0|    1|\n",
      "|       0|     1|  male|43.0|    0|    0|\n",
      "|       1|     1|  male|63.0|    0|    0|\n",
      "|       0|     1|  male|45.0|    1|    0|\n",
      "|       1|     1|female|34.0|    1|    0|\n",
      "|       1|     1|  male|27.0|    0|    0|\n",
      "|       1|     1|female|28.0|    0|    1|\n",
      "|       0|     1|female|36.0|    0|    2|\n",
      "|       1|     1|female| 5.0|    1|    0|\n",
      "+--------+------+------+----+-----+-----+\n",
      "only showing top 20 rows\n",
      "\n"
     ]
    }
   ],
   "source": [
    "dataset = dataset.drop('PassengerId')\n",
    "dataset = dataset.drop('Ticket')\n",
    "dataset = dataset.drop('Fare')\n",
    "dataset = dataset.drop('Cabin')\n",
    "dataset = dataset.drop('Embarked')\n",
    "dataset = dataset.drop('Name')\n",
    "dataset.show()"
   ]
  },
  {
   "cell_type": "markdown",
   "metadata": {},
   "source": [
    "## 3. Features Convert into Vector"
   ]
  },
  {
   "cell_type": "code",
   "execution_count": 14,
   "metadata": {
    "trusted": true
   },
   "outputs": [
    {
     "name": "stdout",
     "output_type": "stream",
     "text": [
      "+--------+------+------+----+-----+-----+------------+\n",
      "|Survived|Pclass|   Sex| Age|SibSp|Parch|Sex_encoding|\n",
      "+--------+------+------+----+-----+-----+------------+\n",
      "|       0|     1|  male|27.0|    2|    1|         1.0|\n",
      "|       0|     2|  male|66.0|    0|    0|         1.0|\n",
      "|       0|     1|  male|60.0|    0|    0|         1.0|\n",
      "|       0|     3|  male|36.0|    0|    0|         1.0|\n",
      "|       1|     1|female|44.0|    0|    1|         0.0|\n",
      "|       1|     1|female|61.0|    0|    4|         0.0|\n",
      "|       0|     1|female|53.0|    1|    1|         0.0|\n",
      "|       1|     1|female|35.0|    0|    2|         0.0|\n",
      "|       1|     1|female|67.0|    1|    0|         0.0|\n",
      "|       1|     1|  male|54.0|    0|    0|         1.0|\n",
      "|       1|     1|female|69.0|    1|    0|         0.0|\n",
      "|       1|     2|female| 7.0|    0|    1|         0.0|\n",
      "|       0|     1|  male|43.0|    0|    0|         1.0|\n",
      "|       1|     1|  male|63.0|    0|    0|         1.0|\n",
      "|       0|     1|  male|45.0|    1|    0|         1.0|\n",
      "|       1|     1|female|34.0|    1|    0|         0.0|\n",
      "|       1|     1|  male|27.0|    0|    0|         1.0|\n",
      "|       1|     1|female|28.0|    0|    1|         0.0|\n",
      "|       0|     1|female|36.0|    0|    2|         0.0|\n",
      "|       1|     1|female| 5.0|    1|    0|         0.0|\n",
      "+--------+------+------+----+-----+-----+------------+\n",
      "only showing top 20 rows\n",
      "\n"
     ]
    }
   ],
   "source": [
    "sex_in = StringIndexer(inputCol=\"Sex\", outputCol=\"Sex_encoding\")\n",
    "df1 = sex_in.fit(dataset).transform(dataset)\n",
    "df1.show() "
   ]
  },
  {
   "cell_type": "code",
   "execution_count": 15,
   "metadata": {
    "trusted": true
   },
   "outputs": [],
   "source": [
    "required_features = ['Survived',\n",
    "                    'Pclass',\n",
    "                    'SibSp',\n",
    "                    'Parch',\n",
    "                     'Age',\n",
    "                     'Sex_encoding'\n",
    "                   ]\n",
    "\n",
    "assembler = VectorAssembler(inputCols=required_features, outputCol='features')\n",
    "\n",
    "transformed_data = assembler.transform(df1)"
   ]
  },
  {
   "cell_type": "code",
   "execution_count": 16,
   "metadata": {
    "trusted": true
   },
   "outputs": [
    {
     "name": "stdout",
     "output_type": "stream",
     "text": [
      "+--------+------+------+----+-----+-----+------------+--------------------+\n",
      "|Survived|Pclass|   Sex| Age|SibSp|Parch|Sex_encoding|            features|\n",
      "+--------+------+------+----+-----+-----+------------+--------------------+\n",
      "|       0|     1|  male|27.0|    2|    1|         1.0|[0.0,1.0,2.0,1.0,...|\n",
      "|       0|     2|  male|66.0|    0|    0|         1.0|[0.0,2.0,0.0,0.0,...|\n",
      "|       0|     1|  male|60.0|    0|    0|         1.0|[0.0,1.0,0.0,0.0,...|\n",
      "|       0|     3|  male|36.0|    0|    0|         1.0|[0.0,3.0,0.0,0.0,...|\n",
      "|       1|     1|female|44.0|    0|    1|         0.0|[1.0,1.0,0.0,1.0,...|\n",
      "|       1|     1|female|61.0|    0|    4|         0.0|[1.0,1.0,0.0,4.0,...|\n",
      "|       0|     1|female|53.0|    1|    1|         0.0|[0.0,1.0,1.0,1.0,...|\n",
      "|       1|     1|female|35.0|    0|    2|         0.0|[1.0,1.0,0.0,2.0,...|\n",
      "|       1|     1|female|67.0|    1|    0|         0.0|[1.0,1.0,1.0,0.0,...|\n",
      "|       1|     1|  male|54.0|    0|    0|         1.0|[1.0,1.0,0.0,0.0,...|\n",
      "|       1|     1|female|69.0|    1|    0|         0.0|[1.0,1.0,1.0,0.0,...|\n",
      "|       1|     2|female| 7.0|    0|    1|         0.0|[1.0,2.0,0.0,1.0,...|\n",
      "|       0|     1|  male|43.0|    0|    0|         1.0|[0.0,1.0,0.0,0.0,...|\n",
      "|       1|     1|  male|63.0|    0|    0|         1.0|[1.0,1.0,0.0,0.0,...|\n",
      "|       0|     1|  male|45.0|    1|    0|         1.0|[0.0,1.0,1.0,0.0,...|\n",
      "|       1|     1|female|34.0|    1|    0|         0.0|[1.0,1.0,1.0,0.0,...|\n",
      "|       1|     1|  male|27.0|    0|    0|         1.0|[1.0,1.0,0.0,0.0,...|\n",
      "|       1|     1|female|28.0|    0|    1|         0.0|[1.0,1.0,0.0,1.0,...|\n",
      "|       0|     1|female|36.0|    0|    2|         0.0|[0.0,1.0,0.0,2.0,...|\n",
      "|       1|     1|female| 5.0|    1|    0|         0.0|[1.0,1.0,1.0,0.0,...|\n",
      "+--------+------+------+----+-----+-----+------------+--------------------+\n",
      "only showing top 20 rows\n",
      "\n"
     ]
    }
   ],
   "source": [
    "transformed_data.show()"
   ]
  },
  {
   "cell_type": "markdown",
   "metadata": {},
   "source": [
    "## 4. Train and Test Split\n",
    "Randomly split data into train and test sets, and set seed for reproducibility."
   ]
  },
  {
   "cell_type": "code",
   "execution_count": 17,
   "metadata": {
    "trusted": true
   },
   "outputs": [],
   "source": [
    "(training_data, test_data) = transformed_data.randomSplit([0.8,0.2])"
   ]
  },
  {
   "cell_type": "code",
   "execution_count": 18,
   "metadata": {
    "trusted": true
   },
   "outputs": [
    {
     "name": "stdout",
     "output_type": "stream",
     "text": [
      "Training Dataset Count: 24692\n",
      "Test Dataset Count: 6189\n"
     ]
    }
   ],
   "source": [
    "print(\"Training Dataset Count: \" + str(training_data.count()))\n",
    "print(\"Test Dataset Count: \" + str(test_data.count()))"
   ]
  },
  {
   "cell_type": "markdown",
   "metadata": {},
   "source": [
    "# Machine learning Model Building\n"
   ]
  },
  {
   "cell_type": "markdown",
   "metadata": {},
   "source": [
    "## 1. Random Forest Classifier\n",
    "\n",
    "Random forest is a supervised learning algorithm which is used for both classification and regression cases, as well. But however, it is mainly used for classification problems. As we know that a forest is made up of trees and more trees mean more robust forests, in a similar way, random forest algorithm creates decision trees on data samples and then gets the prediction from each of them and finally selects the best solution by means of voting. It is an ensemble method which is better than a single decision tree because it reduces the over-fitting by averaging the result."
   ]
  },
  {
   "cell_type": "code",
   "execution_count": 19,
   "metadata": {
    "trusted": true
   },
   "outputs": [],
   "source": [
    "rf = RandomForestClassifier(labelCol='Survived', \n",
    "                            featuresCol='features',\n",
    "                            maxDepth=5)\n",
    "model = rf.fit(training_data)\n",
    "rf_predictions = model.transform(test_data)"
   ]
  },
  {
   "cell_type": "markdown",
   "metadata": {},
   "source": [
    "**Evaluate our Random Forest Classifier model.**"
   ]
  },
  {
   "cell_type": "code",
   "execution_count": 20,
   "metadata": {
    "trusted": true
   },
   "outputs": [
    {
     "name": "stdout",
     "output_type": "stream",
     "text": [
      "Random Forest classifier Accuracy: 1.0\n"
     ]
    }
   ],
   "source": [
    "multi_evaluator = MulticlassClassificationEvaluator(labelCol = 'Survived', metricName = 'accuracy')\n",
    "print('Random Forest classifier Accuracy:', multi_evaluator.evaluate(rf_predictions))"
   ]
  },
  {
   "cell_type": "markdown",
   "metadata": {},
   "source": [
    "## 2. Decision Tree Classifier\n",
    "\n",
    "Decision trees are widely used since they are easy to interpret, handle categorical features, extend to the multiclass classification setting, while not requiring feature scaling and are able to capture non-linearities and feature interactions."
   ]
  },
  {
   "cell_type": "code",
   "execution_count": 21,
   "metadata": {
    "trusted": true
   },
   "outputs": [
    {
     "name": "stdout",
     "output_type": "stream",
     "text": [
      "+------------+------+-----+-----+----+--------+\n",
      "|Sex_encoding|Pclass|SibSp|Parch| Age|Survived|\n",
      "+------------+------+-----+-----+----+--------+\n",
      "|         0.0|     1|    1|    0|0.67|       0|\n",
      "|         0.0|     1|    1|    1| 1.0|       0|\n",
      "|         0.0|     1|    1|    0| 2.0|       0|\n",
      "|         0.0|     1|    1|    2| 2.0|       0|\n",
      "|         0.0|     1|    1|    2| 2.0|       0|\n",
      "|         0.0|     1|    1|    2| 3.0|       0|\n",
      "|         0.0|     1|    0|    0| 4.0|       0|\n",
      "|         0.0|     1|    0|    0| 5.0|       0|\n",
      "|         0.0|     1|    0|    0| 5.0|       0|\n",
      "|         0.0|     1|    0|    2| 5.0|       0|\n",
      "+------------+------+-----+-----+----+--------+\n",
      "only showing top 10 rows\n",
      "\n"
     ]
    }
   ],
   "source": [
    "dt = DecisionTreeClassifier(featuresCol = 'features', labelCol = 'Survived', maxDepth = 3)\n",
    "dtModel = dt.fit(training_data)\n",
    "dt_predictions = dtModel.transform(test_data)\n",
    "dt_predictions.select('Sex_encoding', 'Pclass','SibSp', 'Parch', 'Age', 'Survived').show(10)"
   ]
  },
  {
   "cell_type": "markdown",
   "metadata": {},
   "source": [
    "**Evaluate our Decision Tree model.**"
   ]
  },
  {
   "cell_type": "code",
   "execution_count": 22,
   "metadata": {
    "trusted": true
   },
   "outputs": [
    {
     "name": "stdout",
     "output_type": "stream",
     "text": [
      "Decision Tree Accuracy: 1.0\n"
     ]
    }
   ],
   "source": [
    "multi_evaluator = MulticlassClassificationEvaluator(labelCol = 'Survived', metricName = 'accuracy')\n",
    "print('Decision Tree Accuracy:', multi_evaluator.evaluate(dt_predictions))"
   ]
  },
  {
   "cell_type": "markdown",
   "metadata": {},
   "source": [
    "## 3. Gradient-boosted Tree classifier Model\n",
    "\n",
    "Gradient boosting is a machine learning technique for regression and classification problems, which produces a prediction model in the form of an ensemble of weak prediction models, typically decision trees."
   ]
  },
  {
   "cell_type": "code",
   "execution_count": 23,
   "metadata": {
    "trusted": true
   },
   "outputs": [],
   "source": [
    "gb = GBTClassifier(labelCol = 'Survived', featuresCol = 'features')\n",
    "gbModel = gb.fit(training_data)\n",
    "gb_predictions = gbModel.transform(test_data)"
   ]
  },
  {
   "cell_type": "markdown",
   "metadata": {},
   "source": [
    "**Evaluate our Gradient-Boosted Tree Classifier.**"
   ]
  },
  {
   "cell_type": "code",
   "execution_count": 24,
   "metadata": {
    "trusted": true
   },
   "outputs": [
    {
     "name": "stdout",
     "output_type": "stream",
     "text": [
      "Gradient-boosted Trees Accuracy: 1.0\n"
     ]
    }
   ],
   "source": [
    "multi_evaluator = MulticlassClassificationEvaluator(labelCol = 'Survived', metricName = 'accuracy')\n",
    "print('Gradient-boosted Trees Accuracy:', multi_evaluator.evaluate(gb_predictions))"
   ]
  },
  {
   "cell_type": "markdown",
   "metadata": {},
   "source": [
    "# Make Sumbission file"
   ]
  },
  {
   "cell_type": "code",
   "execution_count": 25,
   "metadata": {
    "trusted": true
   },
   "outputs": [],
   "source": [
    "df_pd = gb_predictions.toPandas()"
   ]
  },
  {
   "cell_type": "code",
   "execution_count": 26,
   "metadata": {
    "trusted": true
   },
   "outputs": [
    {
     "data": {
      "application/vnd.microsoft.datawrangler.viewer.v0+json": {
       "columns": [
        {
         "name": "index",
         "rawType": "int64",
         "type": "integer"
        },
        {
         "name": "Survived",
         "rawType": "int32",
         "type": "integer"
        },
        {
         "name": "Pclass",
         "rawType": "int32",
         "type": "integer"
        },
        {
         "name": "Sex",
         "rawType": "object",
         "type": "string"
        },
        {
         "name": "Age",
         "rawType": "float64",
         "type": "float"
        },
        {
         "name": "SibSp",
         "rawType": "int32",
         "type": "integer"
        },
        {
         "name": "Parch",
         "rawType": "int32",
         "type": "integer"
        },
        {
         "name": "Sex_encoding",
         "rawType": "float64",
         "type": "float"
        },
        {
         "name": "features",
         "rawType": "object",
         "type": "unknown"
        },
        {
         "name": "rawPrediction",
         "rawType": "object",
         "type": "unknown"
        },
        {
         "name": "probability",
         "rawType": "object",
         "type": "unknown"
        },
        {
         "name": "prediction",
         "rawType": "float64",
         "type": "float"
        }
       ],
       "conversionMethod": "pd.DataFrame",
       "ref": "38a4496f-662b-41ed-be77-b27563120646",
       "rows": [
        [
         "0",
         "0",
         "1",
         "female",
         "0.67",
         "1",
         "0",
         "0.0",
         "[0.0,1.0,1.0,0.0,0.67,0.0]",
         "[1.5435020027249977,-1.5435020027249977]",
         "[0.9563534785727079,0.043646521427292084]",
         "0.0"
        ],
        [
         "1",
         "0",
         "1",
         "female",
         "1.0",
         "1",
         "1",
         "0.0",
         "[0.0,1.0,1.0,1.0,1.0,0.0]",
         "[1.5435020027249973,-1.5435020027249973]",
         "[0.9563534785727079,0.043646521427292084]",
         "0.0"
        ],
        [
         "2",
         "0",
         "1",
         "female",
         "2.0",
         "1",
         "0",
         "0.0",
         "[0.0,1.0,1.0,0.0,2.0,0.0]",
         "[1.5435020027249977,-1.5435020027249977]",
         "[0.9563534785727079,0.043646521427292084]",
         "0.0"
        ],
        [
         "3",
         "0",
         "1",
         "female",
         "2.0",
         "1",
         "2",
         "0.0",
         "[0.0,1.0,1.0,2.0,2.0,0.0]",
         "[1.5435020027249973,-1.5435020027249973]",
         "[0.9563534785727079,0.043646521427292084]",
         "0.0"
        ],
        [
         "4",
         "0",
         "1",
         "female",
         "2.0",
         "1",
         "2",
         "0.0",
         "[0.0,1.0,1.0,2.0,2.0,0.0]",
         "[1.5435020027249973,-1.5435020027249973]",
         "[0.9563534785727079,0.043646521427292084]",
         "0.0"
        ]
       ],
       "shape": {
        "columns": 11,
        "rows": 5
       }
      },
      "text/html": [
       "<div>\n",
       "<style scoped>\n",
       "    .dataframe tbody tr th:only-of-type {\n",
       "        vertical-align: middle;\n",
       "    }\n",
       "\n",
       "    .dataframe tbody tr th {\n",
       "        vertical-align: top;\n",
       "    }\n",
       "\n",
       "    .dataframe thead th {\n",
       "        text-align: right;\n",
       "    }\n",
       "</style>\n",
       "<table border=\"1\" class=\"dataframe\">\n",
       "  <thead>\n",
       "    <tr style=\"text-align: right;\">\n",
       "      <th></th>\n",
       "      <th>Survived</th>\n",
       "      <th>Pclass</th>\n",
       "      <th>Sex</th>\n",
       "      <th>Age</th>\n",
       "      <th>SibSp</th>\n",
       "      <th>Parch</th>\n",
       "      <th>Sex_encoding</th>\n",
       "      <th>features</th>\n",
       "      <th>rawPrediction</th>\n",
       "      <th>probability</th>\n",
       "      <th>prediction</th>\n",
       "    </tr>\n",
       "  </thead>\n",
       "  <tbody>\n",
       "    <tr>\n",
       "      <th>0</th>\n",
       "      <td>0</td>\n",
       "      <td>1</td>\n",
       "      <td>female</td>\n",
       "      <td>0.67</td>\n",
       "      <td>1</td>\n",
       "      <td>0</td>\n",
       "      <td>0.0</td>\n",
       "      <td>[0.0, 1.0, 1.0, 0.0, 0.67, 0.0]</td>\n",
       "      <td>[1.5435020027249977, -1.5435020027249977]</td>\n",
       "      <td>[0.9563534785727079, 0.043646521427292084]</td>\n",
       "      <td>0.0</td>\n",
       "    </tr>\n",
       "    <tr>\n",
       "      <th>1</th>\n",
       "      <td>0</td>\n",
       "      <td>1</td>\n",
       "      <td>female</td>\n",
       "      <td>1.00</td>\n",
       "      <td>1</td>\n",
       "      <td>1</td>\n",
       "      <td>0.0</td>\n",
       "      <td>[0.0, 1.0, 1.0, 1.0, 1.0, 0.0]</td>\n",
       "      <td>[1.5435020027249973, -1.5435020027249973]</td>\n",
       "      <td>[0.9563534785727079, 0.043646521427292084]</td>\n",
       "      <td>0.0</td>\n",
       "    </tr>\n",
       "    <tr>\n",
       "      <th>2</th>\n",
       "      <td>0</td>\n",
       "      <td>1</td>\n",
       "      <td>female</td>\n",
       "      <td>2.00</td>\n",
       "      <td>1</td>\n",
       "      <td>0</td>\n",
       "      <td>0.0</td>\n",
       "      <td>[0.0, 1.0, 1.0, 0.0, 2.0, 0.0]</td>\n",
       "      <td>[1.5435020027249977, -1.5435020027249977]</td>\n",
       "      <td>[0.9563534785727079, 0.043646521427292084]</td>\n",
       "      <td>0.0</td>\n",
       "    </tr>\n",
       "    <tr>\n",
       "      <th>3</th>\n",
       "      <td>0</td>\n",
       "      <td>1</td>\n",
       "      <td>female</td>\n",
       "      <td>2.00</td>\n",
       "      <td>1</td>\n",
       "      <td>2</td>\n",
       "      <td>0.0</td>\n",
       "      <td>[0.0, 1.0, 1.0, 2.0, 2.0, 0.0]</td>\n",
       "      <td>[1.5435020027249973, -1.5435020027249973]</td>\n",
       "      <td>[0.9563534785727079, 0.043646521427292084]</td>\n",
       "      <td>0.0</td>\n",
       "    </tr>\n",
       "    <tr>\n",
       "      <th>4</th>\n",
       "      <td>0</td>\n",
       "      <td>1</td>\n",
       "      <td>female</td>\n",
       "      <td>2.00</td>\n",
       "      <td>1</td>\n",
       "      <td>2</td>\n",
       "      <td>0.0</td>\n",
       "      <td>[0.0, 1.0, 1.0, 2.0, 2.0, 0.0]</td>\n",
       "      <td>[1.5435020027249973, -1.5435020027249973]</td>\n",
       "      <td>[0.9563534785727079, 0.043646521427292084]</td>\n",
       "      <td>0.0</td>\n",
       "    </tr>\n",
       "  </tbody>\n",
       "</table>\n",
       "</div>"
      ],
      "text/plain": [
       "   Survived  Pclass     Sex   Age  SibSp  Parch  Sex_encoding  \\\n",
       "0         0       1  female  0.67      1      0           0.0   \n",
       "1         0       1  female  1.00      1      1           0.0   \n",
       "2         0       1  female  2.00      1      0           0.0   \n",
       "3         0       1  female  2.00      1      2           0.0   \n",
       "4         0       1  female  2.00      1      2           0.0   \n",
       "\n",
       "                          features                              rawPrediction  \\\n",
       "0  [0.0, 1.0, 1.0, 0.0, 0.67, 0.0]  [1.5435020027249977, -1.5435020027249977]   \n",
       "1   [0.0, 1.0, 1.0, 1.0, 1.0, 0.0]  [1.5435020027249973, -1.5435020027249973]   \n",
       "2   [0.0, 1.0, 1.0, 0.0, 2.0, 0.0]  [1.5435020027249977, -1.5435020027249977]   \n",
       "3   [0.0, 1.0, 1.0, 2.0, 2.0, 0.0]  [1.5435020027249973, -1.5435020027249973]   \n",
       "4   [0.0, 1.0, 1.0, 2.0, 2.0, 0.0]  [1.5435020027249973, -1.5435020027249973]   \n",
       "\n",
       "                                  probability  prediction  \n",
       "0  [0.9563534785727079, 0.043646521427292084]         0.0  \n",
       "1  [0.9563534785727079, 0.043646521427292084]         0.0  \n",
       "2  [0.9563534785727079, 0.043646521427292084]         0.0  \n",
       "3  [0.9563534785727079, 0.043646521427292084]         0.0  \n",
       "4  [0.9563534785727079, 0.043646521427292084]         0.0  "
      ]
     },
     "execution_count": 26,
     "metadata": {},
     "output_type": "execute_result"
    }
   ],
   "source": [
    "df_pd.head()"
   ]
  },
  {
   "cell_type": "code",
   "execution_count": 27,
   "metadata": {
    "trusted": true
   },
   "outputs": [],
   "source": [
    "df_pd.to_csv(\"gbModel.csv\",index = False)"
   ]
  },
  {
   "cell_type": "code",
   "execution_count": 28,
   "metadata": {
    "trusted": true
   },
   "outputs": [],
   "source": [
    "gb_df = pd.read_csv(\"./gbModel.csv\")"
   ]
  },
  {
   "cell_type": "code",
   "execution_count": 29,
   "metadata": {
    "trusted": true
   },
   "outputs": [
    {
     "data": {
      "application/vnd.microsoft.datawrangler.viewer.v0+json": {
       "columns": [
        {
         "name": "index",
         "rawType": "int64",
         "type": "integer"
        },
        {
         "name": "Survived",
         "rawType": "int64",
         "type": "integer"
        },
        {
         "name": "Pclass",
         "rawType": "int64",
         "type": "integer"
        },
        {
         "name": "Sex",
         "rawType": "object",
         "type": "string"
        },
        {
         "name": "Age",
         "rawType": "float64",
         "type": "float"
        },
        {
         "name": "SibSp",
         "rawType": "int64",
         "type": "integer"
        },
        {
         "name": "Parch",
         "rawType": "int64",
         "type": "integer"
        },
        {
         "name": "Sex_encoding",
         "rawType": "float64",
         "type": "float"
        },
        {
         "name": "features",
         "rawType": "object",
         "type": "string"
        },
        {
         "name": "rawPrediction",
         "rawType": "object",
         "type": "string"
        },
        {
         "name": "probability",
         "rawType": "object",
         "type": "string"
        },
        {
         "name": "prediction",
         "rawType": "float64",
         "type": "float"
        }
       ],
       "conversionMethod": "pd.DataFrame",
       "ref": "9de2e663-43cc-4821-9c63-663dbcc67caa",
       "rows": [
        [
         "0",
         "0",
         "1",
         "female",
         "0.67",
         "1",
         "0",
         "0.0",
         "[0.0,1.0,1.0,0.0,0.67,0.0]",
         "[1.5435020027249977,-1.5435020027249977]",
         "[0.9563534785727079,0.043646521427292084]",
         "0.0"
        ],
        [
         "1",
         "0",
         "1",
         "female",
         "1.0",
         "1",
         "1",
         "0.0",
         "[0.0,1.0,1.0,1.0,1.0,0.0]",
         "[1.5435020027249973,-1.5435020027249973]",
         "[0.9563534785727079,0.043646521427292084]",
         "0.0"
        ],
        [
         "2",
         "0",
         "1",
         "female",
         "2.0",
         "1",
         "0",
         "0.0",
         "[0.0,1.0,1.0,0.0,2.0,0.0]",
         "[1.5435020027249977,-1.5435020027249977]",
         "[0.9563534785727079,0.043646521427292084]",
         "0.0"
        ],
        [
         "3",
         "0",
         "1",
         "female",
         "2.0",
         "1",
         "2",
         "0.0",
         "[0.0,1.0,1.0,2.0,2.0,0.0]",
         "[1.5435020027249973,-1.5435020027249973]",
         "[0.9563534785727079,0.043646521427292084]",
         "0.0"
        ],
        [
         "4",
         "0",
         "1",
         "female",
         "2.0",
         "1",
         "2",
         "0.0",
         "[0.0,1.0,1.0,2.0,2.0,0.0]",
         "[1.5435020027249973,-1.5435020027249973]",
         "[0.9563534785727079,0.043646521427292084]",
         "0.0"
        ]
       ],
       "shape": {
        "columns": 11,
        "rows": 5
       }
      },
      "text/html": [
       "<div>\n",
       "<style scoped>\n",
       "    .dataframe tbody tr th:only-of-type {\n",
       "        vertical-align: middle;\n",
       "    }\n",
       "\n",
       "    .dataframe tbody tr th {\n",
       "        vertical-align: top;\n",
       "    }\n",
       "\n",
       "    .dataframe thead th {\n",
       "        text-align: right;\n",
       "    }\n",
       "</style>\n",
       "<table border=\"1\" class=\"dataframe\">\n",
       "  <thead>\n",
       "    <tr style=\"text-align: right;\">\n",
       "      <th></th>\n",
       "      <th>Survived</th>\n",
       "      <th>Pclass</th>\n",
       "      <th>Sex</th>\n",
       "      <th>Age</th>\n",
       "      <th>SibSp</th>\n",
       "      <th>Parch</th>\n",
       "      <th>Sex_encoding</th>\n",
       "      <th>features</th>\n",
       "      <th>rawPrediction</th>\n",
       "      <th>probability</th>\n",
       "      <th>prediction</th>\n",
       "    </tr>\n",
       "  </thead>\n",
       "  <tbody>\n",
       "    <tr>\n",
       "      <th>0</th>\n",
       "      <td>0</td>\n",
       "      <td>1</td>\n",
       "      <td>female</td>\n",
       "      <td>0.67</td>\n",
       "      <td>1</td>\n",
       "      <td>0</td>\n",
       "      <td>0.0</td>\n",
       "      <td>[0.0,1.0,1.0,0.0,0.67,0.0]</td>\n",
       "      <td>[1.5435020027249977,-1.5435020027249977]</td>\n",
       "      <td>[0.9563534785727079,0.043646521427292084]</td>\n",
       "      <td>0.0</td>\n",
       "    </tr>\n",
       "    <tr>\n",
       "      <th>1</th>\n",
       "      <td>0</td>\n",
       "      <td>1</td>\n",
       "      <td>female</td>\n",
       "      <td>1.00</td>\n",
       "      <td>1</td>\n",
       "      <td>1</td>\n",
       "      <td>0.0</td>\n",
       "      <td>[0.0,1.0,1.0,1.0,1.0,0.0]</td>\n",
       "      <td>[1.5435020027249973,-1.5435020027249973]</td>\n",
       "      <td>[0.9563534785727079,0.043646521427292084]</td>\n",
       "      <td>0.0</td>\n",
       "    </tr>\n",
       "    <tr>\n",
       "      <th>2</th>\n",
       "      <td>0</td>\n",
       "      <td>1</td>\n",
       "      <td>female</td>\n",
       "      <td>2.00</td>\n",
       "      <td>1</td>\n",
       "      <td>0</td>\n",
       "      <td>0.0</td>\n",
       "      <td>[0.0,1.0,1.0,0.0,2.0,0.0]</td>\n",
       "      <td>[1.5435020027249977,-1.5435020027249977]</td>\n",
       "      <td>[0.9563534785727079,0.043646521427292084]</td>\n",
       "      <td>0.0</td>\n",
       "    </tr>\n",
       "    <tr>\n",
       "      <th>3</th>\n",
       "      <td>0</td>\n",
       "      <td>1</td>\n",
       "      <td>female</td>\n",
       "      <td>2.00</td>\n",
       "      <td>1</td>\n",
       "      <td>2</td>\n",
       "      <td>0.0</td>\n",
       "      <td>[0.0,1.0,1.0,2.0,2.0,0.0]</td>\n",
       "      <td>[1.5435020027249973,-1.5435020027249973]</td>\n",
       "      <td>[0.9563534785727079,0.043646521427292084]</td>\n",
       "      <td>0.0</td>\n",
       "    </tr>\n",
       "    <tr>\n",
       "      <th>4</th>\n",
       "      <td>0</td>\n",
       "      <td>1</td>\n",
       "      <td>female</td>\n",
       "      <td>2.00</td>\n",
       "      <td>1</td>\n",
       "      <td>2</td>\n",
       "      <td>0.0</td>\n",
       "      <td>[0.0,1.0,1.0,2.0,2.0,0.0]</td>\n",
       "      <td>[1.5435020027249973,-1.5435020027249973]</td>\n",
       "      <td>[0.9563534785727079,0.043646521427292084]</td>\n",
       "      <td>0.0</td>\n",
       "    </tr>\n",
       "  </tbody>\n",
       "</table>\n",
       "</div>"
      ],
      "text/plain": [
       "   Survived  Pclass     Sex   Age  SibSp  Parch  Sex_encoding  \\\n",
       "0         0       1  female  0.67      1      0           0.0   \n",
       "1         0       1  female  1.00      1      1           0.0   \n",
       "2         0       1  female  2.00      1      0           0.0   \n",
       "3         0       1  female  2.00      1      2           0.0   \n",
       "4         0       1  female  2.00      1      2           0.0   \n",
       "\n",
       "                     features                             rawPrediction  \\\n",
       "0  [0.0,1.0,1.0,0.0,0.67,0.0]  [1.5435020027249977,-1.5435020027249977]   \n",
       "1   [0.0,1.0,1.0,1.0,1.0,0.0]  [1.5435020027249973,-1.5435020027249973]   \n",
       "2   [0.0,1.0,1.0,0.0,2.0,0.0]  [1.5435020027249977,-1.5435020027249977]   \n",
       "3   [0.0,1.0,1.0,2.0,2.0,0.0]  [1.5435020027249973,-1.5435020027249973]   \n",
       "4   [0.0,1.0,1.0,2.0,2.0,0.0]  [1.5435020027249973,-1.5435020027249973]   \n",
       "\n",
       "                                 probability  prediction  \n",
       "0  [0.9563534785727079,0.043646521427292084]         0.0  \n",
       "1  [0.9563534785727079,0.043646521427292084]         0.0  \n",
       "2  [0.9563534785727079,0.043646521427292084]         0.0  \n",
       "3  [0.9563534785727079,0.043646521427292084]         0.0  \n",
       "4  [0.9563534785727079,0.043646521427292084]         0.0  "
      ]
     },
     "execution_count": 29,
     "metadata": {},
     "output_type": "execute_result"
    }
   ],
   "source": [
    "gb_df.head()"
   ]
  },
  {
   "cell_type": "code",
   "execution_count": 31,
   "metadata": {
    "trusted": true
   },
   "outputs": [
    {
     "data": {
      "application/vnd.microsoft.datawrangler.viewer.v0+json": {
       "columns": [
        {
         "name": "index",
         "rawType": "int64",
         "type": "integer"
        },
        {
         "name": "PassengerId",
         "rawType": "int64",
         "type": "integer"
        }
       ],
       "conversionMethod": "pd.DataFrame",
       "ref": "bde701de-999a-4e40-862f-793071e44bab",
       "rows": [
        [
         "0",
         "100000"
        ],
        [
         "1",
         "100001"
        ],
        [
         "2",
         "100002"
        ],
        [
         "3",
         "100003"
        ],
        [
         "4",
         "100004"
        ]
       ],
       "shape": {
        "columns": 1,
        "rows": 5
       }
      },
      "text/html": [
       "<div>\n",
       "<style scoped>\n",
       "    .dataframe tbody tr th:only-of-type {\n",
       "        vertical-align: middle;\n",
       "    }\n",
       "\n",
       "    .dataframe tbody tr th {\n",
       "        vertical-align: top;\n",
       "    }\n",
       "\n",
       "    .dataframe thead th {\n",
       "        text-align: right;\n",
       "    }\n",
       "</style>\n",
       "<table border=\"1\" class=\"dataframe\">\n",
       "  <thead>\n",
       "    <tr style=\"text-align: right;\">\n",
       "      <th></th>\n",
       "      <th>PassengerId</th>\n",
       "    </tr>\n",
       "  </thead>\n",
       "  <tbody>\n",
       "    <tr>\n",
       "      <th>0</th>\n",
       "      <td>100000</td>\n",
       "    </tr>\n",
       "    <tr>\n",
       "      <th>1</th>\n",
       "      <td>100001</td>\n",
       "    </tr>\n",
       "    <tr>\n",
       "      <th>2</th>\n",
       "      <td>100002</td>\n",
       "    </tr>\n",
       "    <tr>\n",
       "      <th>3</th>\n",
       "      <td>100003</td>\n",
       "    </tr>\n",
       "    <tr>\n",
       "      <th>4</th>\n",
       "      <td>100004</td>\n",
       "    </tr>\n",
       "  </tbody>\n",
       "</table>\n",
       "</div>"
      ],
      "text/plain": [
       "   PassengerId\n",
       "0       100000\n",
       "1       100001\n",
       "2       100002\n",
       "3       100003\n",
       "4       100004"
      ]
     },
     "execution_count": 31,
     "metadata": {},
     "output_type": "execute_result"
    }
   ],
   "source": [
    "submission  = pd.read_csv(r\"Y:\\ML - DL - NLP - CV\\Work Space_coding\\Big Data Project\\tabular-playground-series-apr-2021\\sample_submission.csv\")\n",
    "submission = submission.drop(\"Survived\",axis=1)\n",
    "submission.head()"
   ]
  },
  {
   "cell_type": "code",
   "execution_count": 32,
   "metadata": {
    "trusted": true
   },
   "outputs": [],
   "source": [
    "results = pd.concat([submission,gb_df.Survived],axis = 1)"
   ]
  },
  {
   "cell_type": "code",
   "execution_count": 33,
   "metadata": {
    "trusted": true
   },
   "outputs": [],
   "source": [
    "results.to_csv(\"submission.csv\", index = False)"
   ]
  }
 ],
 "metadata": {
  "kaggle": {
   "accelerator": "none",
   "dataSources": [
    {
     "databundleVersionId": 2100250,
     "sourceId": 26478,
     "sourceType": "competition"
    }
   ],
   "dockerImageVersionId": 30096,
   "isGpuEnabled": false,
   "isInternetEnabled": true,
   "language": "python",
   "sourceType": "notebook"
  },
  "kernelspec": {
   "display_name": "my_pyspark_env",
   "language": "python",
   "name": "python3"
  },
  "language_info": {
   "codemirror_mode": {
    "name": "ipython",
    "version": 3
   },
   "file_extension": ".py",
   "mimetype": "text/x-python",
   "name": "python",
   "nbconvert_exporter": "python",
   "pygments_lexer": "ipython3",
   "version": "3.9.21"
  }
 },
 "nbformat": 4,
 "nbformat_minor": 4
}
